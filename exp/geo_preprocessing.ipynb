{
 "cells": [
  {
   "cell_type": "code",
   "execution_count": 11,
   "metadata": {
    "vscode": {
     "languageId": "r"
    }
   },
   "outputs": [],
   "source": [
    "rm(list = ls())\n",
    "setwd('./')\n",
    "\n",
    "library(GSVA)\n",
    "library(GEOquery)"
   ]
  },
  {
   "cell_type": "code",
   "execution_count": 12,
   "metadata": {
    "vscode": {
     "languageId": "r"
    }
   },
   "outputs": [],
   "source": [
    "prepeocessing <- function(file, output, gpl_num=\"GPL570\"){\n",
    "    print(file)\n",
    "    expr.df <- read.table(file, header = TRUE, sep = \"\\t\")\n",
    "    gpl <- getGEO(gpl_num,destdir =\"./data/raw\")\n",
    "    \n",
    "    probe <- Table(gpl)[,c(1,11)]\n",
    "    colnames(probe) <- c(\"ID\", \"GeneSymbol\")\n",
    "    probe <- probe[!is.na(probe$GeneSymbol),]\n",
    "    probe <- probe[-c(which(probe$GeneSymbol==\"\"),\n",
    "                    grep(\"///\", probe$GeneSymbol), which(probe$GeneSymbol==NA)),]\n",
    "    probe <- probe[!duplicated(probe$ID),]\n",
    "    row.names(probe) <- probe[, 1]\n",
    "    same <- intersect(probe[, 1], row.names(expr.df))\n",
    "    expr.df <- expr.df[same,]\n",
    "    probe <- probe[same,]\n",
    "    symbol <- sapply(1:dim(expr.df)[1], \n",
    "                function(i) {\n",
    "                    as.character(probe[which(probe[, 1]==rownames(expr.df)[i]), 2])})\n",
    "\n",
    "    expr.df_1 <- data.frame(symbol, expr.df, stringsAsFactors = FALSE)\n",
    "    print('aggregating')\n",
    "    expr.df_2 <- aggregate(x = expr.df_1[, 2:ncol(expr.df_1)], by = list(expr.df_1[, 1]), FUN = mean)\n",
    "    if (!is.null(expr.df_2)) { colnames(expr.df_2)[1] <- \"Gene\" }\n",
    "    rownames(expr.df_2) <- expr.df_2$Gene\n",
    "    expr.df_2 <- expr.df_2[,-1]\n",
    "    ex <- expr.df_2\n",
    "    qx <- as.numeric(quantile(ex, c(0., 0.25, 0.5, 0.75, 0.99, 1.0), na.rm=T))\n",
    "    LogC <- (qx[5] > 100) ||\n",
    "    (qx[6]-qx[1] > 50 && qx[2] > 0) ||\n",
    "    (qx[2] > 0 && qx[2] < 1 && qx[4] > 1 && qx[4] < 2)\n",
    "\n",
    "    if (LogC) { ex[which(ex <= 0)] <- NaN\n",
    "    ex <- log2(ex)\n",
    "    print(\"log2 transform finished\")}else{print(\"log2 transform not needed\")}\n",
    "    print(output)\n",
    "    save(ex,file=output)\n",
    "}\n"
   ]
  },
  {
   "cell_type": "code",
   "execution_count": null,
   "metadata": {
    "vscode": {
     "languageId": "r"
    }
   },
   "outputs": [],
   "source": [
    "file = './data/raw/CMS_DATA/GSE14333_frma_expression.tsv'\n",
    "output = './data/processed/GSE14333_preprocessed.Rdata'\n",
    "prepeocessing(file, output)\n",
    "\n",
    "file = './data/raw/CMS_DATA/GSE39582_frma_expression.tsv'\n",
    "output = './data/processed/GSE39582_preprocessed.Rdata'\n",
    "prepeocessing(file, output)\n",
    "\n",
    "file = './data/raw/CMS_DATA/GSE33113_frma_expression.tsv'\n",
    "output = './data/processed/GSE33113_preprocessed.Rdata'\n",
    "prepeocessing(file, output)\n",
    "\n",
    "file = './data/raw/CMS_DATA/GSE37892_frma_expression.tsv'\n",
    "output = './data/processed/GSE37892_preprocessed.Rdata'\n",
    "prepeocessing(file, output)"
   ]
  },
  {
   "cell_type": "code",
   "execution_count": 13,
   "metadata": {
    "vscode": {
     "languageId": "r"
    }
   },
   "outputs": [],
   "source": [
    "load('./data/processed/str_scissor_degs.Rdata')\n",
    "degs$gene <- rownames(degs)\n",
    "degs$v <- -log10(degs$p_val_adj)\n",
    "degs$pct <- (degs$pct.1 - degs$pct.2)\n",
    "degs$group <- ifelse((degs$p_val_adj < 0.05) & (degs$avg_log2FC > 1.5),'Up','Down/NS')\n",
    "sig_degs <- subset(degs, p_val_adj < 0.05 & degs$avg_log2FC > 1.5)\n",
    "\n",
    "gs <- list(scSTR=rownames(sig_degs))"
   ]
  },
  {
   "cell_type": "code",
   "execution_count": 20,
   "metadata": {
    "vscode": {
     "languageId": "r"
    }
   },
   "outputs": [
    {
     "data": {
      "text/html": [
       "<style>\n",
       ".list-inline {list-style: none; margin:0; padding: 0}\n",
       ".list-inline>li {display: inline-block}\n",
       ".list-inline>li:not(:last-child)::after {content: \"\\00b7\"; padding: 0 .5ex}\n",
       "</style>\n",
       "<ol class=list-inline><li>21655</li><li>290</li></ol>\n"
      ],
      "text/latex": [
       "\\begin{enumerate*}\n",
       "\\item 21655\n",
       "\\item 290\n",
       "\\end{enumerate*}\n"
      ],
      "text/markdown": [
       "1. 21655\n",
       "2. 290\n",
       "\n",
       "\n"
      ],
      "text/plain": [
       "[1] 21655   290"
      ]
     },
     "metadata": {},
     "output_type": "display_data"
    },
    {
     "name": "stdout",
     "output_type": "stream",
     "text": [
      "Estimating GSVA scores for 1 gene sets.\n",
      "Estimating ECDFs with Gaussian kernels\n",
      "  |======================================================================| 100%\n",
      "\n"
     ]
    }
   ],
   "source": [
    "file <- './data/raw/CMS_DATA/clinical_molecular_public_all_add_14333.txt'\n",
    "clinical_df <- read.table(file, header = TRUE, sep = \"\\t\")\n",
    "\n",
    "#GSE14333\n",
    "load('./data/processed/GSE14333_preprocessed.Rdata')\n",
    "dim(ex)\n",
    "stopifnot(length(ex) == 290)\n",
    "ex <- as.matrix(ex)\n",
    "\n",
    "stopifnot(length(gs[[1]]) == 22)\n",
    "\n",
    "scSTR <- gsva(ex, gs)\n",
    "scSTR <- t(scSTR)\n",
    "\n",
    "rownames(scSTR) <- gsub(\"\\\\.CEL\", \"\", rownames(scSTR))\n",
    "\n",
    "merged_data <- clinical_df\n",
    "merged_data <- merge(scSTR, merged_data, by.x = \"row.names\", by.y = \"sample\", all.x = TRUE)\n",
    "\n",
    "output = './data/processed/GSVA_GSE14333.csv'\n",
    "write.table(merged_data, file = output, sep = \",\")\n"
   ]
  },
  {
   "cell_type": "code",
   "execution_count": 23,
   "metadata": {
    "vscode": {
     "languageId": "r"
    }
   },
   "outputs": [
    {
     "data": {
      "text/html": [
       "<style>\n",
       ".list-inline {list-style: none; margin:0; padding: 0}\n",
       ".list-inline>li {display: inline-block}\n",
       ".list-inline>li:not(:last-child)::after {content: \"\\00b7\"; padding: 0 .5ex}\n",
       "</style>\n",
       "<ol class=list-inline><li>21655</li><li>96</li></ol>\n"
      ],
      "text/latex": [
       "\\begin{enumerate*}\n",
       "\\item 21655\n",
       "\\item 96\n",
       "\\end{enumerate*}\n"
      ],
      "text/markdown": [
       "1. 21655\n",
       "2. 96\n",
       "\n",
       "\n"
      ],
      "text/plain": [
       "[1] 21655    96"
      ]
     },
     "metadata": {},
     "output_type": "display_data"
    },
    {
     "data": {
      "text/html": [
       "<style>\n",
       ".list-inline {list-style: none; margin:0; padding: 0}\n",
       ".list-inline>li {display: inline-block}\n",
       ".list-inline>li:not(:last-child)::after {content: \"\\00b7\"; padding: 0 .5ex}\n",
       "</style>\n",
       "<ol class=list-inline><li>90</li><li>20</li></ol>\n"
      ],
      "text/latex": [
       "\\begin{enumerate*}\n",
       "\\item 90\n",
       "\\item 20\n",
       "\\end{enumerate*}\n"
      ],
      "text/markdown": [
       "1. 90\n",
       "2. 20\n",
       "\n",
       "\n"
      ],
      "text/plain": [
       "[1] 90 20"
      ]
     },
     "metadata": {},
     "output_type": "display_data"
    },
    {
     "name": "stdout",
     "output_type": "stream",
     "text": [
      "Estimating GSVA scores for 1 gene sets.\n",
      "Estimating ECDFs with Gaussian kernels\n",
      "  |======================================================================| 100%\n",
      "\n"
     ]
    }
   ],
   "source": [
    "df <- data.frame(\n",
    "  sample = c(\"GSM820048\", \"GSM820049\", \"GSM820050\", \"GSM820051\", \"GSM820052\", \"GSM820053\", \"GSM820054\", \"GSM820055\", \"GSM820056\", \"GSM820057\",\n",
    "             \"GSM820058\", \"GSM820059\", \"GSM820060\", \"GSM820061\", \"GSM820062\", \"GSM820063\", \"GSM820064\", \"GSM820065\", \"GSM820066\", \"GSM820067\",\n",
    "             \"GSM820068\", \"GSM820069\", \"GSM820070\", \"GSM820071\", \"GSM820072\", \"GSM820073\", \"GSM820074\", \"GSM820075\", \"GSM820076\", \"GSM820077\",\n",
    "             \"GSM820078\", \"GSM820079\", \"GSM820080\", \"GSM820081\", \"GSM820082\", \"GSM820083\", \"GSM820084\", \"GSM820085\", \"GSM820086\", \"GSM820087\",\n",
    "             \"GSM820088\", \"GSM820089\", \"GSM820090\", \"GSM820091\", \"GSM820092\", \"GSM820093\", \"GSM820094\", \"GSM820095\", \"GSM820096\", \"GSM820097\",\n",
    "             \"GSM820098\", \"GSM820099\", \"GSM820100\", \"GSM820101\", \"GSM820102\", \"GSM820103\", \"GSM820104\", \"GSM820105\", \"GSM820106\", \"GSM820107\",\n",
    "             \"GSM820108\", \"GSM820109\", \"GSM820110\", \"GSM820111\", \"GSM820112\", \"GSM820113\", \"GSM820114\", \"GSM820115\", \"GSM820116\", \"GSM820117\",\n",
    "             \"GSM820118\", \"GSM820119\", \"GSM820120\", \"GSM820121\", \"GSM820122\", \"GSM820123\", \"GSM820124\", \"GSM820125\", \"GSM820126\", \"GSM820127\",\n",
    "             \"GSM820128\", \"GSM820129\", \"GSM820130\", \"GSM820131\", \"GSM820132\", \"GSM820133\", \"GSM820134\", \"GSM820135\", \"GSM820136\", \"GSM820137\"),\n",
    "  Column = c(\"col001\", \"col002\", \"col003\", \"col004\", \"col005\", \"col006\", \"col007\", \"col008\", \"col009\", \"col010\",\n",
    "             \"col011\", \"col012\", \"col013\", \"col014\", \"col015\", \"col016\", \"col017\", \"col018\", \"col019\", \"col020\",\n",
    "             \"col021\", \"col022\", \"col023\", \"col024\", \"col026\", \"col033\", \"col034\", \"col035\", \"col036\", \"col037\",\n",
    "             \"col038\", \"col039\", \"col040\", \"col041\", \"col044\", \"col045\", \"col046\", \"col047\", \"col048\", \"col049\",\n",
    "             \"col050\", \"col051\", \"col052\", \"col053\", \"col054\", \"col055\", \"col056\", \"col057\", \"col058\", \"col059\",\n",
    "             \"col060\", \"col061\", \"col062\", \"col063\", \"col064\", \"col065\", \"col066\", \"col067\", \"col068\", \"col069\",\n",
    "             \"col070\", \"col072\", \"col073\", \"col074\", \"col075\", \"col076\", \"col077\", \"col078\", \"col079\", \"col080\",\n",
    "             \"col081\", \"col082\", \"col083\", \"col084\", \"col085\", \"col086\", \"col089\", \"col090\", \"col091\", \"col092\",\n",
    "             \"col093\", \"col094\", \"col095\", \"col096\", \"col097\", \"col098\", \"col099\", \"col100\", \"col101\", \"col102\")\n",
    ")\n",
    "\n",
    "load('./data/processed/GSE33113_preprocessed.Rdata')\n",
    "dim(ex)\n",
    "stopifnot(length(ex) == 96)\n",
    "result_df <- dplyr::left_join(df, clinical_df, by = c(\"Column\" = \"sample\"))\n",
    "dim(result_df)\n",
    "result_df <- result_df[, !names(result_df) %in% \"Column\"]\n",
    "ex <- as.matrix(ex)\n",
    "\n",
    "gs <- list(scSTR=rownames(sig_degs))\n",
    "stopifnot(length(gs[[1]]) == 22)\n",
    "\n",
    "scSTR <- gsva(ex, gs)\n",
    "scSTR <- t(scSTR)\n",
    "\n",
    "rownames(scSTR) <- gsub(\"\\\\.CEL\", \"\", rownames(scSTR))\n",
    "\n",
    "merged_data <- result_df\n",
    "merged_data <- merge(scSTR, merged_data, by.x = \"row.names\", by.y = \"sample\", all.x = TRUE)\n",
    "\n",
    "output = './data/processed/GSVA_GSE33113.csv'\n",
    "write.table(merged_data, file = output, sep = \",\")"
   ]
  },
  {
   "cell_type": "code",
   "execution_count": 24,
   "metadata": {
    "vscode": {
     "languageId": "r"
    }
   },
   "outputs": [
    {
     "data": {
      "text/html": [
       "<style>\n",
       ".list-inline {list-style: none; margin:0; padding: 0}\n",
       ".list-inline>li {display: inline-block}\n",
       ".list-inline>li:not(:last-child)::after {content: \"\\00b7\"; padding: 0 .5ex}\n",
       "</style>\n",
       "<ol class=list-inline><li>21655</li><li>130</li></ol>\n"
      ],
      "text/latex": [
       "\\begin{enumerate*}\n",
       "\\item 21655\n",
       "\\item 130\n",
       "\\end{enumerate*}\n"
      ],
      "text/markdown": [
       "1. 21655\n",
       "2. 130\n",
       "\n",
       "\n"
      ],
      "text/plain": [
       "[1] 21655   130"
      ]
     },
     "metadata": {},
     "output_type": "display_data"
    },
    {
     "name": "stdout",
     "output_type": "stream",
     "text": [
      "Estimating GSVA scores for 1 gene sets.\n",
      "Estimating ECDFs with Gaussian kernels\n",
      "  |======================================================================| 100%\n",
      "\n"
     ]
    }
   ],
   "source": [
    "load('./data/processed/GSE37892_preprocessed.Rdata')\n",
    "dim(ex)\n",
    "stopifnot(length(ex) == 130)\n",
    "ex <- as.matrix(ex)\n",
    "\n",
    "stopifnot(length(gs[[1]]) == 22)\n",
    "scSTR <- gsva(ex, gs)\n",
    "scSTR <- t(scSTR)\n",
    "rownames(scSTR) <- gsub(\"_.*\", \"\", rownames(scSTR))\n",
    "\n",
    "merged_data <- clinical_df\n",
    "merged_data <- merge(scSTR, merged_data, by.x = \"row.names\", by.y = \"sample\", all.x = TRUE)\n",
    "\n",
    "output = './data/processed/GSVA_GSE37892.csv'\n",
    "write.table(merged_data, file = output, sep = \",\")"
   ]
  },
  {
   "cell_type": "code",
   "execution_count": 25,
   "metadata": {
    "vscode": {
     "languageId": "r"
    }
   },
   "outputs": [
    {
     "data": {
      "text/html": [
       "<style>\n",
       ".list-inline {list-style: none; margin:0; padding: 0}\n",
       ".list-inline>li {display: inline-block}\n",
       ".list-inline>li:not(:last-child)::after {content: \"\\00b7\"; padding: 0 .5ex}\n",
       "</style>\n",
       "<ol class=list-inline><li>21655</li><li>566</li></ol>\n"
      ],
      "text/latex": [
       "\\begin{enumerate*}\n",
       "\\item 21655\n",
       "\\item 566\n",
       "\\end{enumerate*}\n"
      ],
      "text/markdown": [
       "1. 21655\n",
       "2. 566\n",
       "\n",
       "\n"
      ],
      "text/plain": [
       "[1] 21655   566"
      ]
     },
     "metadata": {},
     "output_type": "display_data"
    },
    {
     "name": "stdout",
     "output_type": "stream",
     "text": [
      "Estimating GSVA scores for 1 gene sets.\n",
      "Estimating ECDFs with Gaussian kernels\n",
      "  |======================================================================| 100%\n",
      "\n"
     ]
    }
   ],
   "source": [
    "load('./data/processed/GSE39582_preprocessed.Rdata')\n",
    "dim(ex)\n",
    "stopifnot(length(ex) == 566)\n",
    "ex <- as.matrix(ex)\n",
    "\n",
    "stopifnot(length(gs[[1]]) == 22)\n",
    "scSTR <- gsva(ex, gs)\n",
    "scSTR <- t(scSTR)\n",
    "rownames(scSTR) <- gsub(\"_.*\", \"\", rownames(scSTR))\n",
    "\n",
    "merged_data <- clinical_df\n",
    "merged_data <- merge(scSTR, merged_data, by.x = \"row.names\", by.y = \"sample\", all.x = TRUE)\n",
    "\n",
    "output = './data/processed/GSVA_GSE39582.csv'\n",
    "write.table(merged_data, file = output, sep = \",\")"
   ]
  },
  {
   "cell_type": "code",
   "execution_count": 29,
   "metadata": {
    "vscode": {
     "languageId": "r"
    }
   },
   "outputs": [
    {
     "data": {
      "text/html": [
       "<style>\n",
       ".list-inline {list-style: none; margin:0; padding: 0}\n",
       ".list-inline>li {display: inline-block}\n",
       ".list-inline>li:not(:last-child)::after {content: \"\\00b7\"; padding: 0 .5ex}\n",
       "</style>\n",
       "<ol class=list-inline><li>59427</li><li>576</li></ol>\n"
      ],
      "text/latex": [
       "\\begin{enumerate*}\n",
       "\\item 59427\n",
       "\\item 576\n",
       "\\end{enumerate*}\n"
      ],
      "text/markdown": [
       "1. 59427\n",
       "2. 576\n",
       "\n",
       "\n"
      ],
      "text/plain": [
       "[1] 59427   576"
      ]
     },
     "metadata": {},
     "output_type": "display_data"
    },
    {
     "name": "stderr",
     "output_type": "stream",
     "text": [
      "Warning message in .filterFeatures(expr, method):\n",
      "“3514 genes with constant expression values throuhgout the samples.”\n",
      "Warning message in .filterFeatures(expr, method):\n",
      "“Since argument method!=\"ssgsea\", genes with constant expression values are discarded.”\n"
     ]
    },
    {
     "name": "stdout",
     "output_type": "stream",
     "text": [
      "Estimating GSVA scores for 1 gene sets.\n",
      "Estimating ECDFs with Gaussian kernels\n",
      "  |======================================================================| 100%\n",
      "\n"
     ]
    },
    {
     "data": {
      "text/html": [
       "<style>\n",
       ".list-inline {list-style: none; margin:0; padding: 0}\n",
       ".list-inline>li {display: inline-block}\n",
       ".list-inline>li:not(:last-child)::after {content: \"\\00b7\"; padding: 0 .5ex}\n",
       "</style>\n",
       "<ol class=list-inline><li>576</li><li>4</li></ol>\n"
      ],
      "text/latex": [
       "\\begin{enumerate*}\n",
       "\\item 576\n",
       "\\item 4\n",
       "\\end{enumerate*}\n"
      ],
      "text/markdown": [
       "1. 576\n",
       "2. 4\n",
       "\n",
       "\n"
      ],
      "text/plain": [
       "[1] 576   4"
      ]
     },
     "metadata": {},
     "output_type": "display_data"
    }
   ],
   "source": [
    "load('./data/raw/crc_bulk_tpm.Rdata')\n",
    "load('./data/raw/crc_bulk_survival.Rdata')\n",
    "\n",
    "ex <- as.matrix(log2(bulk_dataset_1+1))\n",
    "dim(ex)\n",
    "\n",
    "stopifnot(dim(ex)[2] == 576)\n",
    "\n",
    "gs <- list(scSTR=rownames(sig_degs))\n",
    "stopifnot(length(gs[[1]]) == 22)\n",
    "scSTR <- gsva(ex, gs)\n",
    "scSTR <- t(scSTR)\n",
    "rownames(scSTR) <- gsub(\"_.*\", \"\", rownames(scSTR))\n",
    "merged_data <- merge(scSTR, bulk_survival, by.x = \"row.names\", by.y = \"TCGA_patient_barcode\", all.x = TRUE)\n",
    "dim(merged_data)\n",
    "write.table(merged_data, file = \"./data/processed/GSVA_TCGA_CRC_Gaussian.csv\",sep = \",\")"
   ]
  },
  {
   "cell_type": "code",
   "execution_count": 30,
   "metadata": {
    "vscode": {
     "languageId": "r"
    }
   },
   "outputs": [
    {
     "data": {
      "text/plain": [
       "R version 4.3.3 (2024-02-29)\n",
       "Platform: x86_64-conda-linux-gnu (64-bit)\n",
       "Running under: Debian GNU/Linux 12 (bookworm)\n",
       "\n",
       "Matrix products: default\n",
       "BLAS/LAPACK: ./anaconda3/envs/scCRC/lib/libopenblasp-r0.3.24.so;  LAPACK version 3.11.0\n",
       "\n",
       "locale:\n",
       " [1] LC_CTYPE=en_US.UTF-8       LC_NUMERIC=C              \n",
       " [3] LC_TIME=en_US.UTF-8        LC_COLLATE=en_US.UTF-8    \n",
       " [5] LC_MONETARY=en_US.UTF-8    LC_MESSAGES=en_US.UTF-8   \n",
       " [7] LC_PAPER=en_US.UTF-8       LC_NAME=C                 \n",
       " [9] LC_ADDRESS=C               LC_TELEPHONE=C            \n",
       "[11] LC_MEASUREMENT=en_US.UTF-8 LC_IDENTIFICATION=C       \n",
       "\n",
       "time zone: Europe/Berlin\n",
       "tzcode source: system (glibc)\n",
       "\n",
       "attached base packages:\n",
       "[1] stats     graphics  grDevices utils     datasets  methods   base     \n",
       "\n",
       "other attached packages:\n",
       "[1] GSVA_1.48.3         GEOquery_2.68.0     Biobase_2.60.0     \n",
       "[4] BiocGenerics_0.46.0\n",
       "\n",
       "loaded via a namespace (and not attached):\n",
       " [1] tidyselect_1.2.0            IRdisplay_1.1              \n",
       " [3] dplyr_1.1.3                 blob_1.2.4                 \n",
       " [5] Biostrings_2.68.1           bitops_1.0-7               \n",
       " [7] fastmap_1.1.1               SingleCellExperiment_1.22.0\n",
       " [9] RCurl_1.98-1.12             rsvd_1.0.5                 \n",
       "[11] XML_3.99-0.14               digest_0.6.33              \n",
       "[13] lifecycle_1.0.3             KEGGREST_1.40.0            \n",
       "[15] RSQLite_2.3.1               magrittr_2.0.3             \n",
       "[17] compiler_4.3.3              rlang_1.1.1                \n",
       "[19] tools_4.3.3                 utf8_1.2.3                 \n",
       "[21] data.table_1.14.8           S4Arrays_1.0.6             \n",
       "[23] bit_4.0.5                   DelayedArray_0.26.7        \n",
       "[25] xml2_1.3.6                  repr_1.1.7                 \n",
       "[27] abind_1.4-5                 BiocParallel_1.34.2        \n",
       "[29] HDF5Array_1.28.1            pbdZMQ_0.3-13              \n",
       "[31] purrr_1.0.2                 grid_4.3.3                 \n",
       "[33] stats4_4.3.3                fansi_1.0.4                \n",
       "[35] beachmat_2.16.0             xtable_1.8-4               \n",
       "[37] Rhdf5lib_1.22.1             SummarizedExperiment_1.30.2\n",
       "[39] cli_3.6.1                   crayon_1.5.2               \n",
       "[41] generics_0.1.3              httr_1.4.7                 \n",
       "[43] tzdb_0.4.0                  DelayedMatrixStats_1.22.6  \n",
       "[45] DBI_1.1.3                   cachem_1.0.8               \n",
       "[47] rhdf5_2.44.0                zlibbioc_1.46.0            \n",
       "[49] parallel_4.3.3              AnnotationDbi_1.64.1       \n",
       "[51] XVector_0.40.0              matrixStats_1.0.0          \n",
       "[53] base64enc_0.1-3             vctrs_0.6.3                \n",
       "[55] Matrix_1.6-1.1              jsonlite_1.8.7             \n",
       "[57] BiocSingular_1.16.0         IRanges_2.34.1             \n",
       "[59] hms_1.1.3                   S4Vectors_0.38.2           \n",
       "[61] bit64_4.0.5                 irlba_2.3.5.1              \n",
       "[63] GSEABase_1.62.0             limma_3.56.2               \n",
       "[65] tidyr_1.3.0                 annotate_1.78.0            \n",
       "[67] glue_1.6.2                  codetools_0.2-19           \n",
       "[69] GenomeInfoDb_1.36.3         GenomicRanges_1.52.0       \n",
       "[71] ScaledMatrix_1.8.1          tibble_3.2.1               \n",
       "[73] pillar_1.9.0                htmltools_0.5.6            \n",
       "[75] rhdf5filters_1.12.1         IRkernel_1.3.2             \n",
       "[77] graph_1.78.0                GenomeInfoDbData_1.2.10    \n",
       "[79] R6_2.5.1                    sparseMatrixStats_1.12.2   \n",
       "[81] evaluate_0.21               lattice_0.21-8             \n",
       "[83] readr_2.1.4                 png_0.1-8                  \n",
       "[85] memoise_2.0.1               Rcpp_1.0.11                \n",
       "[87] uuid_1.1-1                  MatrixGenerics_1.12.3      \n",
       "[89] pkgconfig_2.0.3            "
      ]
     },
     "metadata": {},
     "output_type": "display_data"
    }
   ],
   "source": [
    "sessionInfo()"
   ]
  }
 ],
 "metadata": {
  "kernelspec": {
   "display_name": "scCRC_re",
   "language": "R",
   "name": "sccrc_re"
  },
  "language_info": {
   "codemirror_mode": "r",
   "file_extension": ".r",
   "mimetype": "text/x-r-source",
   "name": "R",
   "pygments_lexer": "r",
   "version": "4.3.3"
  }
 },
 "nbformat": 4,
 "nbformat_minor": 2
}
